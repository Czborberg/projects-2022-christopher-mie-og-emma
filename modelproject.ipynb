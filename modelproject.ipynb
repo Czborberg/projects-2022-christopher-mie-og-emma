{
 "cells": [
  {
   "cell_type": "markdown",
   "metadata": {},
   "source": [
    "# YOUR PROJECT TITLE"
   ]
  },
  {
   "cell_type": "markdown",
   "metadata": {},
   "source": [
    "> **Note the following:** \n",
    "> 1. This is *not* meant to be an example of an actual **model analysis project**, just an example of how to structure such a project.\n",
    "> 1. Remember the general advice on structuring and commenting your code from [lecture 5](https://numeconcopenhagen.netlify.com/lectures/Workflow_and_debugging).\n",
    "> 1. Remember this [guide](https://www.markdownguide.org/basic-syntax/) on markdown and (a bit of) latex.\n",
    "> 1. Turn on automatic numbering by clicking on the small icon on top of the table of contents in the left sidebar.\n",
    "> 1. The `modelproject.py` file includes a function which could be used multiple times in this notebook."
   ]
  },
  {
   "cell_type": "markdown",
   "metadata": {},
   "source": [
    "Imports and set magics:"
   ]
  },
  {
   "cell_type": "code",
   "execution_count": 201,
   "metadata": {},
   "outputs": [],
   "source": [
    "import numpy as np\n",
    "import matplotlib.pyplot as plt\n",
    "plt.style.use('seaborn-whitegrid')\n",
    "plt.rcParams.update({'font.size': 12})\n",
    "from scipy import optimize\n",
    "import sympy as sm\n",
    "\n",
    "# autoreload modules when code is run\n",
    "#%load_ext autoreload\n",
    "#%autoreload 2\n",
    "\n",
    "# local modules\n",
    "import modelproject as ip"
   ]
  },
  {
   "cell_type": "markdown",
   "metadata": {},
   "source": [
    "# Model description"
   ]
  },
  {
   "cell_type": "markdown",
   "metadata": {},
   "source": [
    "**Descriping the model:**\n",
    "\n",
    "We consider a version of the Ramsey model with population growing at rate $1+n$.\n",
    "\n",
    "\n",
    "**Households maximize** the intertemporal utility function:\n",
    "\n",
    "$$\n",
    "\\begin{aligned}\n",
    "U =& \\max_{c_{t}}\\sum_{t=0}^{\\infty}\\beta^{t}(1+n)^{t}\\frac{c_{t}^{1-\\theta}}{1-\\theta}\\\\\n",
    " & \\text{s.t.}\\\\\n",
    " & a_{t+1}(1+n)=a_tR_t+w_t-c_t\n",
    "\\end{aligned}\n",
    "$$\n",
    "where $c_t$ is consumption per capita, $\\beta$ is the discount rate, $\\theta$ is the coefficient of relative risk aversion and $a_t$ .\n",
    "with $a_0>0$ given and $R_t=1+r_t-\\delta$ implies that return on household savings ($R_t$) must equal the rental rate on capital paid by firms ($r_t$) plus the undepreciated capital ($1-\\delta$)\n",
    "It is assumed $\\beta(1+n)<1$ and $\\theta>0$\n",
    "\n",
    "\n",
    "\n",
    "The Lagrangian of the representative household's optimization problem is:\n",
    "$$\n",
    "\\begin{equation*}\n",
    "L=\\sum_{t=0}^{\\infty}\\beta^{t}(1+n)^{t}\\left[\\frac{c_{t}^{1-\\theta}}{1-\\theta}-\\mu_t\\left(a_{t+1}(1+n)-(1+r_t-\\delta)a_t-w_t+c_t\\right)\\right]\n",
    "\\end{equation*}\n",
    "$$\n",
    "where $\\mu_t=\\frac{\\lambda_t}{\\beta^t(1+n)^t}$\n",
    "\n",
    "The FOC's are:\n",
    "$$\n",
    "\\begin{aligned}\n",
    "\\frac{\\partial L}{\\partial c_t}=0 &\\Leftrightarrow \\mu_t=c_t^{-\\theta} \\\\\n",
    "\\frac{\\partial L}{\\partial a_{t+1}}=0 &\\Leftrightarrow \\beta \\mu_{t+1}(1+r_{t+1}-\\delta)\n",
    "\\end{aligned}\n",
    "$$\n",
    "\n",
    "Which combined yields the Euler equation, describing the households optimal consumption path:\n",
    "$$\n",
    "\\begin{equation*}\n",
    "c_t^{-\\theta}=\\beta c_{t+1}^{-\\theta}(1+r_{t+1}-\\delta) \\Leftrightarrow \\frac{c_{t+1} }{c_t} = \\left(\\beta(1+r_{t+1}-\\delta)\\right)^{\\frac{1}{\\theta}}\n",
    "\\end{equation*}\n",
    "$$\n",
    "where $\\frac{1}{\\theta}$ is the elasticity of substitution, which is a measure of how willing the household is to substitute a unit of consumption today for a unit of consumption tomorrow.\n",
    "\n",
    "**Identical competitive firms maximize** the profit function:\n",
    "\n",
    "$$\n",
    "\\begin{equation*}\n",
    "\\pi^F(K_t,L_t)=A K_t^{\\alpha}(L_t)^{1-\\alpha}-w_tL_t-r_tK_t\n",
    "\\end{equation*}\n",
    "$$\n",
    "\n",
    "where $L_t$ is labor, $K_t$ is capital, $w_t$ is the wage rate, $r_t$ is the rental rate.\n",
    "\n",
    "Profit maximization yields:\n",
    "$$\n",
    "\\begin{aligned}\n",
    "r_t =& A\\alpha k_t^{\\alpha-1} \\\\\n",
    "w_t =& A(1-\\alpha) k_t^{\\alpha}\n",
    "\\end{aligned}\n",
    "$$\n",
    "where $k_t=\\frac{K_t}{L_t}$ is capital per capita.\n",
    "\n",
    "Furthermore, the goods market clearing condition is:\n",
    "$$\n",
    "Y_t=c_t+I_t\n",
    "$$\n",
    "where $Y_t=F(K_t,L_t)$\n",
    "\n",
    "And capital follows the law of motion:\n",
    "$$\n",
    "K_t=(1-\\delta)K_{t-1}+I_t\n",
    "$$\n",
    "\n",
    "\n",
    "**Solution Algorithm:**\n",
    "\n",
    "We define a function $H_t$ for the transition paths of the economy:\n",
    "$$\n",
    "\\begin{aligned}\n",
    "H_{t}\n",
    "=\\left[\\begin{array}{c}\n",
    "c_t^{-\\theta}-\\beta c_{t+1}^{-\\theta}(1+r_{t+1}-\\delta)\\\\\n",
    "K_t-\\left[(1-\\delta)K_{t-1}+Y_t-c_t\\right]\n",
    "\\end{array}\\right]\n",
    "\\quad \\text{where } t\\in (0,\\infty)\n",
    "\\end{aligned}\n",
    "$$  "
   ]
  },
  {
   "cell_type": "markdown",
   "metadata": {},
   "source": [
    "## Analytical solution"
   ]
  },
  {
   "cell_type": "markdown",
   "metadata": {},
   "source": [
    "If your model allows for an analytical solution, you should provide here.\n",
    "\n",
    "You may use Sympy for this. Then you can characterize the solution as a function of a parameter of the model.\n",
    "\n",
    "To characterize the solution, first derive a steady state equation as a function of a parameter using Sympy.solve and then turn it into a python function by Sympy.lambdify. See the lecture notes for details. "
   ]
  },
  {
   "cell_type": "markdown",
   "metadata": {},
   "source": [
    "## Numerical solution"
   ]
  },
  {
   "cell_type": "code",
   "execution_count": 202,
   "metadata": {},
   "outputs": [],
   "source": [
    "from modelproject2 import RamseyModel"
   ]
  },
  {
   "cell_type": "code",
   "execution_count": 203,
   "metadata": {},
   "outputs": [],
   "source": [
    "model = RamseyModel()\n",
    "\n",
    "model.initialmodel() # initilizaing\n",
    "model.setup()\n",
    "model.allocate()\n",
    "\n",
    "par = model.par\n",
    "ss = model.ss\n",
    "path = model.path"
   ]
  },
  {
   "cell_type": "code",
   "execution_count": 204,
   "metadata": {},
   "outputs": [
    {
     "name": "stdout",
     "output_type": "stream",
     "text": [
      "Y_ss = 1.0000\n",
      "K_ss/Y_ss = 4.0000\n",
      "r_ss = 0.0750\n",
      "w_ss = 0.7000\n",
      "beta = 0.9302\n",
      "A = 0.6598\n"
     ]
    }
   ],
   "source": [
    "model.steady_state(KY_ss=4.0)"
   ]
  },
  {
   "cell_type": "code",
   "execution_count": 205,
   "metadata": {},
   "outputs": [],
   "source": [
    "# a. sAet initial value\n",
    "par.K_initial = ss.K\n",
    "\n",
    "# b. set path\n",
    "path.A[:] = ss.A\n",
    "path.C[:] = ss.C\n",
    "path.K[:] = ss.K\n",
    "\n",
    "# c. check errors\n",
    "errors_ss = model.evaluate_path_errors()\n",
    "assert np.allclose(errors_ss, 0.0)"
   ]
  },
  {
   "cell_type": "code",
   "execution_count": 206,
   "metadata": {},
   "outputs": [],
   "source": [
    "model.calculate_jacobian()"
   ]
  },
  {
   "cell_type": "code",
   "execution_count": 207,
   "metadata": {},
   "outputs": [
    {
     "name": "stdout",
     "output_type": "stream",
     "text": [
      " it =   0 -> max. abs. error =   2.08774760\n",
      " it =   1 -> max. abs. error =   0.03420823\n",
      " it =   2 -> max. abs. error =   0.03836482\n",
      " it =   3 -> max. abs. error =   0.00473137\n",
      " it =   4 -> max. abs. error =   0.01201268\n",
      " it =   5 -> max. abs. error =   0.01057479\n",
      " it =   6 -> max. abs. error =   0.00363710\n",
      " it =   7 -> max. abs. error =   0.00162228\n",
      " it =   8 -> max. abs. error =   0.00093142\n",
      " it =   9 -> max. abs. error =   0.00007259\n",
      " it =  10 -> max. abs. error =   0.00009313\n",
      " it =  11 -> max. abs. error =   0.00000426\n",
      " it =  12 -> max. abs. error =   0.00000598\n",
      " it =  13 -> max. abs. error =   0.00000036\n",
      " it =  14 -> max. abs. error =   0.00000030\n",
      " it =  15 -> max. abs. error =   0.00000002\n",
      " it =  16 -> max. abs. error =   0.00000001\n",
      " it =  17 -> max. abs. error =   0.00000000\n"
     ]
    }
   ],
   "source": [
    "par.K_initial = 0.50*ss.K # start away from steady state\n",
    "model.solve() # find transition path"
   ]
  },
  {
   "cell_type": "markdown",
   "metadata": {},
   "source": [
    "# Further analysis"
   ]
  },
  {
   "cell_type": "code",
   "execution_count": 208,
   "metadata": {},
   "outputs": [
    {
     "data": {
      "image/png": "[encoded data removed]",
      "text/plain": [
       "<Figure size 864x288 with 2 Axes>"
      ]
     },
     "metadata": {},
     "output_type": "display_data"
    }
   ],
   "source": [
    "fig = plt.figure(figsize=(2*6,6/1.5))\n",
    "ax = fig.add_subplot(1,2,1)\n",
    "ax.plot(path.K_lag,label=r'$K_{t-1}$')\n",
    "ax.legend(frameon=True)\n",
    "\n",
    "ax = fig.add_subplot(1,2,2)\n",
    "ax.plot(path.A)\n",
    "ax.set_title('Technology, $A_t$')\n",
    "\n",
    "fig.tight_layout()"
   ]
  },
  {
   "cell_type": "code",
   "execution_count": 209,
   "metadata": {},
   "outputs": [],
   "source": [
    "par.K_initial = ss.K # start from steady state\n",
    "path.A[:] = 0.95**np.arange(par.transition_path)*0.2*ss.A + ss.A # shock path\n"
   ]
  },
  {
   "cell_type": "code",
   "execution_count": 210,
   "metadata": {},
   "outputs": [
    {
     "name": "stdout",
     "output_type": "stream",
     "text": [
      " it =   0 -> max. abs. error =   0.00000000\n"
     ]
    }
   ],
   "source": [
    "model.solve()\n"
   ]
  },
  {
   "cell_type": "code",
   "execution_count": 211,
   "metadata": {},
   "outputs": [
    {
     "data": {
      "image/png": "[encoded data removed]",
      "text/plain": [
       "<Figure size 864x288 with 2 Axes>"
      ]
     },
     "metadata": {},
     "output_type": "display_data"
    }
   ],
   "source": [
    "fig = plt.figure(figsize=(2*6,6/1.5))\n",
    "\n",
    "ax = fig.add_subplot(1,2,1)\n",
    "ax.set_title('Capital, $K_{t-1}$')\n",
    "ax.plot(path.K_lag)\n",
    "\n",
    "ax = fig.add_subplot(1,2,2)\n",
    "ax.plot(path.A)\n",
    "ax.set_title('Technology, $A_t$')\n",
    "\n",
    "fig.tight_layout()"
   ]
  },
  {
   "cell_type": "code",
   "execution_count": 212,
   "metadata": {},
   "outputs": [
    {
     "name": "stdout",
     "output_type": "stream",
     "text": [
      " it =   0 -> max. abs. error =   0.00000000\n"
     ]
    },
    {
     "data": {
      "image/png": "[encoded data removed]",
      "text/plain": [
       "<Figure size 864x288 with 2 Axes>"
      ]
     },
     "metadata": {},
     "output_type": "display_data"
    }
   ],
   "source": [
    "par.K_lag_ini = ss.K # start from steady state\n",
    "\n",
    "# shock\n",
    "H = 50\n",
    "path.A[:] = ss.A\n",
    "path.A[H:] = 0.95**np.arange(par.transition_path-H)*0.1*ss.A + ss.A\n",
    "\n",
    "model.solve()\n",
    "\n",
    "fig = plt.figure(figsize=(2*6,6/1.5))\n",
    "\n",
    "ax = fig.add_subplot(1,2,1)\n",
    "ax.set_title('Capital, $K_{t-1}$')\n",
    "ax.plot(path.K_lag)\n",
    "\n",
    "ax = fig.add_subplot(1,2,2)\n",
    "ax.plot(path.A)\n",
    "ax.set_title('Technology, $A_t$')\n",
    "\n",
    "fig.tight_layout()"
   ]
  },
  {
   "cell_type": "markdown",
   "metadata": {},
   "source": [
    "Make detailed vizualizations of how your model changes with parameter values. \n",
    "\n",
    "Try to make an extension of the model. "
   ]
  },
  {
   "cell_type": "markdown",
   "metadata": {},
   "source": [
    "# Conclusion"
   ]
  },
  {
   "cell_type": "markdown",
   "metadata": {},
   "source": [
    "Add concise conclusion. "
   ]
  }
 ],
 "metadata": {
  "interpreter": {
   "hash": "37445c39a4c14a4ac365d179b73481d52ed161c0a9df849c43b6cb450023e6c9"
  },
  "kernelspec": {
   "display_name": "Python 3.8.8 ('base')",
   "language": "python",
   "name": "python3"
  },
  "language_info": {
   "codemirror_mode": {
    "name": "ipython",
    "version": 3
   },
   "file_extension": ".py",
   "mimetype": "text/x-python",
   "name": "python",
   "nbconvert_exporter": "python",
   "pygments_lexer": "ipython3",
   "version": "3.8.8"
  },
  "toc-autonumbering": true
 },
 "nbformat": 4,
 "nbformat_minor": 4
}
