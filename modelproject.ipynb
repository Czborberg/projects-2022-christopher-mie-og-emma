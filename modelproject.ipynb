{
 "cells": [
  {
   "cell_type": "markdown",
   "metadata": {},
   "source": [
    "# YOUR PROJECT TITLE"
   ]
  },
  {
   "cell_type": "markdown",
   "metadata": {},
   "source": [
    "> **Note the following:** \n",
    "> 1. This is *not* meant to be an example of an actual **model analysis project**, just an example of how to structure such a project.\n",
    "> 1. Remember the general advice on structuring and commenting your code from [lecture 5](https://numeconcopenhagen.netlify.com/lectures/Workflow_and_debugging).\n",
    "> 1. Remember this [guide](https://www.markdownguide.org/basic-syntax/) on markdown and (a bit of) latex.\n",
    "> 1. Turn on automatic numbering by clicking on the small icon on top of the table of contents in the left sidebar.\n",
    "> 1. The `modelproject.py` file includes a function which could be used multiple times in this notebook."
   ]
  },
  {
   "cell_type": "markdown",
   "metadata": {},
   "source": [
    "Imports and set magics:"
   ]
  },
  {
   "cell_type": "code",
   "execution_count": 1,
   "metadata": {},
   "outputs": [],
   "source": [
    "import numpy as np\n",
    "import matplotlib.pyplot as plt\n",
    "plt.style.use('seaborn-whitegrid')\n",
    "plt.rcParams.update({'font.size': 12})\n",
    "from scipy import optimize\n",
    "import sympy as sm\n",
    "\n",
    "# autoreload modules when code is run\n",
    "#%load_ext autoreload\n",
    "#%autoreload 2\n",
    "\n",
    "# local modules\n",
    "import modelproject as ip"
   ]
  },
  {
   "cell_type": "markdown",
   "metadata": {},
   "source": [
    "# Model description"
   ]
  },
  {
   "cell_type": "markdown",
   "metadata": {},
   "source": [
    "**Descriping the model:**\n",
    "\n",
    "We consider a version of the Ramsey model with population growing at rate $1+n$.\n",
    "\n",
    "\n",
    "**Households maximize** the intertemporal utility function:\n",
    "\n",
    "$$\n",
    "\\begin{aligned}\n",
    "U =& \\max_{c_{t}}\\sum_{t=0}^{\\infty}\\beta^{t}(1+n)^{t}\\frac{c_{t}^{1-\\theta}}{1-\\theta}\\\\\n",
    " & \\text{s.t.}\\\\\n",
    " & a_{t+1}(1+n)=a_tR_t+w_t-c_t\n",
    "\\end{aligned}\n",
    "$$\n",
    "where $c_t$ is consumption per capita, $\\beta$ is the discount rate, $\\theta$ is the coefficient of relative risk aversion and $a_t$ .\n",
    "with $a_0>0$ given and $R_t=1+r_t-\\delta$ implies that return on household savings ($R_t$) must equal the rental rate on capital paid by firms ($r_t$) plus the undepreciated capital ($1-\\delta$)\n",
    "It is assumed $\\beta(1+n)<1$ and $\\theta>0$\n",
    "\n",
    "\n",
    "\n",
    "The Lagrangian of the representative household's optimization problem is:\n",
    "$$\n",
    "\\begin{equation*}\n",
    "L=\\sum_{t=0}^{\\infty}\\beta^{t}(1+n)^{t}\\left[\\frac{c_{t}^{1-\\theta}}{1-\\theta}-\\mu_t\\left(a_{t+1}(1+n)-(1+r_t-\\delta)a_t-w_t+c_t\\right)\\right]\n",
    "\\end{equation*}\n",
    "$$\n",
    "where $\\mu_t=\\frac{\\lambda_t}{\\beta^t(1+n)^t}$\n",
    "\n",
    "The FOC's are:\n",
    "$$\n",
    "\\begin{aligned}\n",
    "\\frac{\\partial L}{\\partial c_t}=0 &\\Leftrightarrow \\mu_t=c_t^{-\\theta} \\\\\n",
    "\\frac{\\partial L}{\\partial a_{t+1}}=0 &\\Leftrightarrow \\beta \\mu_{t+1}(1+r_{t+1}-\\delta)\n",
    "\\end{aligned}\n",
    "$$\n",
    "\n",
    "Which combined yields the Euler equation, describing the households optimal consumption path:\n",
    "$$\n",
    "\\begin{equation*}\n",
    "c_t^{-\\theta}=\\beta c_{t+1}^{-\\theta}(1+r_{t+1}-\\delta) \\Leftrightarrow \\frac{c_{t+1} }{c_t} = \\left(\\beta(1+r_{t+1}-\\delta)\\right)^{\\frac{1}{\\theta}}\n",
    "\\end{equation*}\n",
    "$$\n",
    "where $\\frac{1}{\\theta}$ is the elasticity of substitution, which is a measure of how willing the household is to substitute a unit of consumption today for a unit of consumption tomorrow.\n",
    "\n",
    "**Identical competitive firms maximize** the profit function:\n",
    "\n",
    "$$\n",
    "\\begin{equation*}\n",
    "\\pi^F(K_t,L_t)=A K_t^{\\alpha}(L_t)^{1-\\alpha}-w_tL_t-r_tK_t\n",
    "\\end{equation*}\n",
    "$$\n",
    "\n",
    "where $L_t$ is labor, $K_t$ is capital, $w_t$ is the wage rate, $r_t$ is the rental rate.\n",
    "\n",
    "Profit maximization yields:\n",
    "$$\n",
    "\\begin{aligned}\n",
    "r_t =& A\\alpha k_t^{\\alpha-1} \\\\\n",
    "w_t =& A(1-\\alpha) k_t^{\\alpha}\n",
    "\\end{aligned}\n",
    "$$\n",
    "where $k_t=\\frac{K_t}{L_t}$ is capital per capita.\n",
    "\n",
    "Furthermore, the goods market clearing condition is:\n",
    "$$\n",
    "Y_t=c_t+I_t\n",
    "$$\n",
    "where $Y_t=F(K_t,L_t)$\n",
    "\n",
    "And capital follows the law of motion:\n",
    "$$\n",
    "K_t=(1-\\delta)K_{t-1}+I_t\n",
    "$$\n",
    "\n",
    "\n",
    "**Solution Algorithm:**\n",
    "\n",
    "We define a function $H_t$ for the transition paths of the economy:\n",
    "$$\n",
    "\\begin{aligned}\n",
    "H_{t}\n",
    "=\\left[\\begin{array}{c}\n",
    "c_t^{-\\theta}-\\beta c_{t+1}^{-\\theta}(1+r_{t+1}-\\delta)\\\\\n",
    "K_t-\\left[(1-\\delta)K_{t-1}+Y_t-c_t\\right]\n",
    "\\end{array}\\right]\n",
    "\\quad \\text{where } t\\in (0,\\infty)\n",
    "\\end{aligned}\n",
    "$$  "
   ]
  },
  {
   "cell_type": "markdown",
   "metadata": {},
   "source": [
    "## Analytical solution"
   ]
  },
  {
   "cell_type": "markdown",
   "metadata": {},
   "source": [
    "If your model allows for an analytical solution, you should provide here.\n",
    "\n",
    "You may use Sympy for this. Then you can characterize the solution as a function of a parameter of the model.\n",
    "\n",
    "To characterize the solution, first derive a steady state equation as a function of a parameter using Sympy.solve and then turn it into a python function by Sympy.lambdify. See the lecture notes for details. "
   ]
  },
  {
   "cell_type": "markdown",
   "metadata": {},
   "source": [
    "## Numerical solution"
   ]
  },
  {
   "cell_type": "code",
   "execution_count": 33,
   "metadata": {},
   "outputs": [],
   "source": [
    "#from modelproject import RamseyModel"
   ]
  },
  {
   "cell_type": "code",
   "execution_count": 47,
   "metadata": {},
   "outputs": [],
   "source": [
    "import numpy as np\n",
    "from types import SimpleNamespace\n",
    "from scipy import optimize\n",
    "\n",
    "class RamseyModel():\n",
    "\n",
    "    def initialmodel(self):\n",
    "        \"\"\" create model \n",
    "        \n",
    "        NB: The self parameter is a reference to the current instance of the class, and is used to access variables that belongs to the class.\n",
    "        \n",
    "        \"\"\"\n",
    "        \n",
    "        self.par = SimpleNamespace()\n",
    "        self.ss = SimpleNamespace()\n",
    "        self.path = SimpleNamespace()\n",
    "        \n",
    "        self.setup()\n",
    "        self.allocate()\n",
    "\n",
    "    def setup(self):\n",
    "        \"\"\" parameters of the model \"\"\"\n",
    "\n",
    "        par = self.par\n",
    "\n",
    "        par.alpha = 0.3 # capital share\n",
    "        par.beta = np.nan # discount factor\n",
    "        par.delta = 0.05 # depreciation rate\n",
    "        par.theta = 2 # coefficient of constant relative risk aversion (CRRA)\n",
    "        par.A = 1 # technology\n",
    "        par.K_initial = 1.0\n",
    "        par.transition_path = 500 \n",
    "    \n",
    "    def allocate(self):\n",
    "        \"\"\" allocate arrays for transition path \"\"\"\n",
    "        \n",
    "        par = self.par\n",
    "        path = self.path\n",
    "\n",
    "        allvariables = ['K','C','w','r','Y','K_lag']\n",
    "\n",
    "        for variablename in allvariables:\n",
    "            setattr(path, variablename, np.nan*np.ones(par.transition_path))\n",
    "    \n",
    "    def steady_state(self, KY_ss, do_print=True):\n",
    "        \"\"\" find steady state \"\"\"\n",
    "\n",
    "        par = self.par\n",
    "        ss = self.ss\n",
    "       \n",
    "        ss.K = KY_ss\n",
    "        Y,_,_ = production(par,1.0,ss.K)\n",
    "        ss.A = 1/Y\n",
    "        \n",
    "        # factor prices\n",
    "        ss.Y, ss.r, ss.w = production(par,ss.A, ss.K)\n",
    "        assert np.isclose(ss.Y, 1.0)\n",
    "        \n",
    "        # implied discount factor\n",
    "        par.beta = 1/(1+ss.r)\n",
    "\n",
    "        # consumption (goods market clear Y = C + I, I = delta*K)\n",
    "        ss.C = ss.Y - par.delta*ss.K \n",
    "\n",
    "        if do_print:\n",
    "\n",
    "            print(f'Y_ss = {ss.Y:.4f}')\n",
    "            print(f'K_ss/Y_ss = {ss.K/ss.Y:.4f}')\n",
    "            print(f'r_ss = {ss.r:.4f}')\n",
    "            print(f'w_ss = {ss.w:.4f}')\n",
    "            print(f'beta = {par.beta:.4f}')\n",
    "        \n",
    "    def evaluate_path_errors(self):\n",
    "        \"\"\" evaluate errors \"\"\"\n",
    "\n",
    "        par = self.par\n",
    "        ss = self.ss\n",
    "        path = self.path\n",
    "  \n",
    "        C = path.C\n",
    "        C_plus = np.append(path.C[1:], ss.C)\n",
    "\n",
    "        K = path.K\n",
    "        K_lag = path.K_lag = np.insert(K[:-1],0, par.K_initial)\n",
    "\n",
    "        path.Y, path.r, path.w = production(par, K_lag)\n",
    "        r_plus = np.append(path.r[1:], ss.r)\n",
    "\n",
    "        errors = np.nan*np.ones((2, par.transition_path))\n",
    "        errors[0,:] = C**(-par.theta) - par.beta*(1+r_plus)*C_plus**(-par.theta)\n",
    "        errors[1,:] = K - ((1-par.delta)*K_lag + path.Y - C)\n",
    "        \n",
    "        return errors.ravel()\n",
    "        \n",
    "    def calculate_jacobian(self, h = 1e-6):\n",
    "        \"\"\" calculate jacobian \"\"\"\n",
    "        \n",
    "        par = self.par\n",
    "        ss = self.ss\n",
    "        path = self.path\n",
    "        \n",
    "        # a. allocate\n",
    "        Njac = 2*par.transition_path\n",
    "        jac = self.jac = np.nan*np.ones((Njac,Njac))\n",
    "        \n",
    "        x_ss = np.nan*np.ones((2,par.transition_path))\n",
    "        x_ss[0,:] = ss.C\n",
    "        x_ss[1,:] = ss.K\n",
    "        x_ss = x_ss.ravel()\n",
    "\n",
    "        # b. baseline errors\n",
    "        path.C[:] = ss.C\n",
    "        path.K[:] = ss.K\n",
    "        base = self.evaluate_path_errors()\n",
    "\n",
    "        # c. jacobian\n",
    "        for i in range(Njac):\n",
    "            \n",
    "            # i. add small number to a single x (single K or C) \n",
    "            x_jac = x_ss.copy()\n",
    "            x_jac[i] += h\n",
    "            x_jac = x_jac.reshape((2, par.transition_path))\n",
    "            \n",
    "            # ii. alternative errors\n",
    "            path.C[:] = x_jac[0,:]\n",
    "            path.K[:] = x_jac[1,:]\n",
    "            alt = self.evaluate_path_errors()\n",
    "\n",
    "            # iii. numerical derivative\n",
    "            jac[:,i] = (alt-base)/h\n",
    "        \n",
    "    def solve(self):\n",
    "        \"\"\" solve for the transition path \"\"\"\n",
    "\n",
    "        par = self.par\n",
    "        ss = self.ss\n",
    "        path = self.path\n",
    "        \n",
    "        # a. equation system\n",
    "        def eq_sys(x):\n",
    "            \n",
    "            # i. update\n",
    "            x = x.reshape((2, par.transition_path))\n",
    "            path.C[:] = x[0,:]\n",
    "            path.K[:] = x[1,:]\n",
    "            \n",
    "            # ii. return errors\n",
    "            return self.evaluate_path_errors()\n",
    "\n",
    "        # b. initial guess\n",
    "        x0 = np.nan*np.ones((2, par.transition_path))\n",
    "        x0[0,:] = ss.C\n",
    "        x0[1,:] = ss.K\n",
    "        x0 = x0.ravel()\n",
    "\n",
    "        # c. call solver\n",
    "        root = optimize.root(eq_sys, x0, method='hybr', options={'factor':1.0})\n",
    "            # the factor determines the size of the initial step\n",
    "            # too low: slow\n",
    "            # too high: prone to errors\n",
    "\n",
    "        x = root.x\n",
    "            \n",
    "        # d. final evaluation\n",
    "        eq_sys(x)\n",
    "\n",
    "def production(par, A, K_lag):\n",
    "    \"\"\" production and factor prices \"\"\"\n",
    "\n",
    "    # a. production\n",
    "    Y = A*K_lag**par.alpha * 1**(1-par.alpha)\n",
    "\n",
    "    # b. factor prices\n",
    "    r = A*par.alpha * K_lag**(par.alpha-1) * 1**(1-par.alpha)\n",
    "    w = A*(1-par.alpha) * K_lag**(par.alpha) * 1**(-par.alpha)\n",
    "\n",
    "    return Y,r,w            \n",
    "\n",
    "def broyden_solver(f, x0, jac, tol=1e-8, maxiter=100, do_print=False):\n",
    "    \"\"\" numerical equation system solver using the broyden method \n",
    "    \n",
    "        f (callable): function return errors in equation system\n",
    "        jac (ndarray): initial jacobian\n",
    "        tol (float,optional): tolerance\n",
    "        maxiter (int,optional): maximum number of iterations\n",
    "        do_print (bool,optional): print progress\n",
    "\n",
    "    \"\"\"\n",
    "\n",
    "    # a. initial\n",
    "    x = x0.ravel()\n",
    "    y = f(x)\n",
    "\n",
    "    # b. iterate\n",
    "    for it in range(maxiter):\n",
    "        \n",
    "        # i. current difference\n",
    "        abs_diff = np.max(np.abs(y))\n",
    "        if do_print: print(f' it = {it:3d} -> max. abs. error = {abs_diff:12.8f}')\n",
    "\n",
    "        if abs_diff < tol: return x\n",
    "        \n",
    "        # ii. new x\n",
    "        dx = np.linalg.solve(jac,-y)\n",
    "        assert not np.any(np.isnan(dx))\n",
    "        \n",
    "        # iii. evaluate\n",
    "        ynew = f(x+dx)\n",
    "        dy = ynew-y\n",
    "        jac = jac + np.outer(((dy - jac @ dx) / np.linalg.norm(dx)**2), dx)\n",
    "        y = ynew\n",
    "        x += dx\n",
    "            \n",
    "    else:\n",
    "\n",
    "        raise ValueError(f'no convergence after {maxiter} iterations')        "
   ]
  },
  {
   "cell_type": "code",
   "execution_count": 48,
   "metadata": {},
   "outputs": [],
   "source": [
    "model = RamseyModel()\n",
    "\n",
    "model.initialmodel() # initilizaing\n",
    "model.setup()\n",
    "model.allocate()\n",
    "\n",
    "par = model.par\n",
    "ss = model.ss\n",
    "path = model.path"
   ]
  },
  {
   "cell_type": "code",
   "execution_count": 49,
   "metadata": {},
   "outputs": [
    {
     "name": "stdout",
     "output_type": "stream",
     "text": [
      "Y_ss = 1.0000\n",
      "K_ss/Y_ss = 4.0000\n",
      "r_ss = 0.0750\n",
      "w_ss = 0.7000\n",
      "beta = 0.9302\n"
     ]
    }
   ],
   "source": [
    "model.steady_state(KY_ss=4.0)"
   ]
  },
  {
   "cell_type": "code",
   "execution_count": 5,
   "metadata": {},
   "outputs": [],
   "source": [
    "# a. set initial value\n",
    "par.K_initial = ss.K\n",
    "\n",
    "# b. set path\n",
    "path.C[:] = ss.C\n",
    "path.K[:] = ss.K\n",
    "\n",
    "# c. check errors\n",
    "errors_ss = model.evaluate_path_errors()\n",
    "# assert np.allclose(errors_ss, 0.0)"
   ]
  },
  {
   "cell_type": "code",
   "execution_count": 6,
   "metadata": {},
   "outputs": [],
   "source": [
    "model.calculate_jacobian()"
   ]
  },
  {
   "cell_type": "code",
   "execution_count": 7,
   "metadata": {},
   "outputs": [
    {
     "name": "stderr",
     "output_type": "stream",
     "text": [
      "/Users/christopher/Documents/Python/projects-2022-christopher-mie-og-emma/modelproject.py:169: RuntimeWarning: invalid value encountered in power\n",
      "  Y = par.A*K_lag**par.alpha * 1**(1-par.alpha)\n",
      "/Users/christopher/Documents/Python/projects-2022-christopher-mie-og-emma/modelproject.py:172: RuntimeWarning: invalid value encountered in power\n",
      "  r = par.A*par.alpha * K_lag**(par.alpha-1) * 1**(1-par.alpha)\n",
      "/Users/christopher/Documents/Python/projects-2022-christopher-mie-og-emma/modelproject.py:173: RuntimeWarning: invalid value encountered in power\n",
      "  w = par.A*(1-par.alpha) * K_lag**(par.alpha) * 1**(-par.alpha)\n"
     ]
    }
   ],
   "source": [
    "par.K_initial = 0.50*ss.K # start away from steady state\n",
    "model.solve() # find transition path"
   ]
  },
  {
   "cell_type": "markdown",
   "metadata": {},
   "source": [
    "# Further analysis"
   ]
  },
  {
   "cell_type": "code",
   "execution_count": 8,
   "metadata": {},
   "outputs": [
    {
     "data": {
      "image/png": "[encoded data removed]",
      "text/plain": [
       "<Figure size 432x288 with 1 Axes>"
      ]
     },
     "metadata": {},
     "output_type": "display_data"
    }
   ],
   "source": [
    "fig = plt.figure(figsize=(6,6/1.5))\n",
    "ax = fig.add_subplot(1,1,1)\n",
    "ax.plot(path.K_lag,label=r'$K_{t-1}$')\n",
    "ax.legend(frameon=True)\n",
    "fig.tight_layout()"
   ]
  },
  {
   "cell_type": "markdown",
   "metadata": {},
   "source": [
    "Make detailed vizualizations of how your model changes with parameter values. \n",
    "\n",
    "Try to make an extension of the model. "
   ]
  },
  {
   "cell_type": "markdown",
   "metadata": {},
   "source": [
    "# Conclusion"
   ]
  },
  {
   "cell_type": "markdown",
   "metadata": {},
   "source": [
    "Add concise conclusion. "
   ]
  }
 ],
 "metadata": {
  "interpreter": {
   "hash": "37445c39a4c14a4ac365d179b73481d52ed161c0a9df849c43b6cb450023e6c9"
  },
  "kernelspec": {
   "display_name": "Python 3.8.8 ('base')",
   "language": "python",
   "name": "python3"
  },
  "language_info": {
   "codemirror_mode": {
    "name": "ipython",
    "version": 3
   },
   "file_extension": ".py",
   "mimetype": "text/x-python",
   "name": "python",
   "nbconvert_exporter": "python",
   "pygments_lexer": "ipython3",
   "version": "3.8.8"
  },
  "toc-autonumbering": true
 },
 "nbformat": 4,
 "nbformat_minor": 4
}
