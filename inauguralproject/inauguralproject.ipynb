{
 "cells": [
  {
   "cell_type": "markdown",
   "metadata": {
    "tags": []
   },
   "source": [
    "# Inaugural Project"
   ]
  },
  {
   "cell_type": "markdown",
   "metadata": {},
   "source": [
    "Imports and set magics:"
   ]
  },
  {
   "cell_type": "code",
   "execution_count": 1,
   "metadata": {},
   "outputs": [],
   "source": [
    "import numpy as np\n",
    "import matplotlib.pyplot as plt\n",
    "from scipy import optimize \n",
    "\n",
    "import os\n",
    "os.environ['KMP_DUPLICATE_LIB_OK']='True'\n",
    "\n",
    "# autoreload modules when code is run. Otherwise, python will not see recent changes. \n",
    "#%load_ext autoreload\n",
    "#%autoreload 2\n",
    "\n",
    "# Import your own code\n",
    "import inauguralproject as ip"
   ]
  },
  {
   "cell_type": "markdown",
   "metadata": {},
   "source": [
    "# Question 1"
   ]
  },
  {
   "cell_type": "markdown",
   "metadata": {},
   "source": [
    "**Explain how you solve the model**"
   ]
  },
  {
   "cell_type": "code",
   "execution_count": 2,
   "metadata": {},
   "outputs": [],
   "source": [
    "# Agent's assets are initialized, y\n",
    "y=1\n",
    "\n",
    "# Create array of possible monetary losses, x\n",
    "N = 100\n",
    "x_vec = np.linspace(0.01, 0.9, N)\n",
    "\n",
    "# Agent's optimality problem\n",
    "q_guess = [0] \n",
    "q_opti = []\n",
    "\n",
    "for x in x_vec:\n",
    "    obj_function = lambda q: -ip.expected_utility(q[0], x)\n",
    "    res = optimize.minimize(obj_function, q_guess, method = 'Nelder-Mead')\n",
    "    q_opti.append(res.x[0])"
   ]
  },
  {
   "cell_type": "code",
   "execution_count": 3,
   "metadata": {},
   "outputs": [
    {
     "data": {
      "text/plain": [
       "Text(0, 0.5, 'Optimal coverage, q*')"
      ]
     },
     "execution_count": 3,
     "metadata": {},
     "output_type": "execute_result"
    },
    {
     "data": {
      "image/png": "[encoded data removed]",
      "text/plain": [
       "<Figure size 600x400 with 1 Axes>"
      ]
     },
     "metadata": {
      "needs_background": "light"
     },
     "output_type": "display_data"
    }
   ],
   "source": [
    "# Plot\n",
    "fig = plt.figure(dpi = 100)\n",
    "ax = fig.add_subplot(1, 1, 1)\n",
    "ax.plot(x_vec, q_opti)\n",
    "plt.title(\"Agent's optimality problem\")\n",
    "plt.xlabel('Monetary loss, x')\n",
    "plt.ylabel('Optimal coverage, q*')"
   ]
  },
  {
   "cell_type": "markdown",
   "metadata": {
    "tags": []
   },
   "source": [
    "# Question 2"
   ]
  },
  {
   "cell_type": "markdown",
   "metadata": {},
   "source": [
    "Explain your code and procedure"
   ]
  },
  {
   "cell_type": "code",
   "execution_count": null,
   "metadata": {},
   "outputs": [],
   "source": [
    "# Constructing a grid of q\n",
    "q_vec = np.linspace(0.01, 0.6, N)\n",
    "\n",
    "# Agent's optimality problem\n",
    "pi_opti = []\n",
    "pi_guess = [0]\n",
    "\n",
    "for q in q_vec:\n",
    "    obj_function_pi = lambda pi: -ip.indifferent(q, pi[0])\n",
    "    res = optimize.root(obj_function_pi, pi_guess, method='broyden1')\n",
    "    pi_opti.append(res.x[0])"
   ]
  },
  {
   "cell_type": "code",
   "execution_count": null,
   "metadata": {},
   "outputs": [],
   "source": [
    "# Plot\n",
    "fig = plt.figure(dpi = 100)\n",
    "ax = fig.add_subplot(1, 1, 1)\n",
    "ax.plot(q_vec, pi_opti)\n",
    "ax.plot(q_vec, q_vec*0.2)\n",
    "plt.title(\"Feasible premiums\")\n",
    "plt.xlabel('Coverage, q')\n",
    "plt.ylabel('Premium, pi')\n",
    "plt.fill_between(q_vec, pi_opti, q_vec*0.2, \n",
    "                 color='green', alpha=0.5,\n",
    "                 label='Feasible premiums')\n",
    "plt.legend(['Consumer constraint', 'Insurance company constraint', 'Feasible premiums'])"
   ]
  },
  {
   "cell_type": "markdown",
   "metadata": {},
   "source": [
    "# Question 3"
   ]
  },
  {
   "cell_type": "markdown",
   "metadata": {},
   "source": [
    "Explain your code and procedure"
   ]
  },
  {
   "cell_type": "code",
   "execution_count": null,
   "metadata": {},
   "outputs": [],
   "source": [
    "# code"
   ]
  },
  {
   "cell_type": "markdown",
   "metadata": {},
   "source": [
    "ADD CONCISE CONLUSION."
   ]
  }
 ],
 "metadata": {
  "kernelspec": {
   "display_name": "Python 3 (ipykernel)",
   "language": "python",
   "name": "python3"
  },
  "language_info": {
   "codemirror_mode": {
    "name": "ipython",
    "version": 3
   },
   "file_extension": ".py",
   "mimetype": "text/x-python",
   "name": "python",
   "nbconvert_exporter": "python",
   "pygments_lexer": "ipython3",
   "version": "3.8.12"
  },
  "toc-autonumbering": true
 },
 "nbformat": 4,
 "nbformat_minor": 4
}
