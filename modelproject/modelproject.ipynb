{
 "cells": [
  {
   "cell_type": "markdown",
   "metadata": {},
   "source": [
    "# YOUR PROJECT TITLE"
   ]
  },
  {
   "cell_type": "markdown",
   "metadata": {},
   "source": [
    "> **Note the following:** \n",
    "> 1. This is *not* meant to be an example of an actual **model analysis project**, just an example of how to structure such a project.\n",
    "> 1. Remember the general advice on structuring and commenting your code from [lecture 5](https://numeconcopenhagen.netlify.com/lectures/Workflow_and_debugging).\n",
    "> 1. Remember this [guide](https://www.markdownguide.org/basic-syntax/) on markdown and (a bit of) latex.\n",
    "> 1. Turn on automatic numbering by clicking on the small icon on top of the table of contents in the left sidebar.\n",
    "> 1. The `modelproject.py` file includes a function which could be used multiple times in this notebook."
   ]
  },
  {
   "cell_type": "markdown",
   "metadata": {},
   "source": [
    "Imports and set magics:"
   ]
  },
  {
   "cell_type": "code",
   "execution_count": 1,
   "metadata": {},
   "outputs": [],
   "source": [
    "import numpy as np\n",
    "from scipy import optimize\n",
    "import sympy as sm\n",
    "\n",
    "# autoreload modules when code is run\n",
    "%load_ext autoreload\n",
    "%autoreload 2\n",
    "\n",
    "# local modules\n",
    "import modelproject"
   ]
  },
  {
   "cell_type": "markdown",
   "metadata": {},
   "source": [
    "# Model description"
   ]
  },
  {
   "cell_type": "markdown",
   "metadata": {},
   "source": [
    "**Descriping the model:**\n",
    "\n",
    "We consider a version of the Ramsey model with population growing at rate $1+n$.\n",
    "\n",
    "\n",
    "**Households maximize** the intertemporal utility function:\n",
    "\n",
    "$$\n",
    "\\begin{aligned}\n",
    "U =& \\max_{c_{t}}\\sum_{t=0}^{\\infty}\\beta^{t}(1+n)^{t}\\frac{c_{t}^{1-\\theta}}{1-\\theta}\\\\\n",
    " & \\text{s.t.}\\\\\n",
    " & a_{t+1}(1+n)=a_tR_t+w_t-c_t\n",
    "\\end{aligned}\n",
    "$$\n",
    "where $c_t$ is consumption per capita, $\\beta$ is the discount rate, $\\theta$ is the coefficient of relative risk aversion and $a_t$ .\n",
    "with $a_0>0$ given and $R_t=1+r_t-\\delta$ implies that return on household savings ($R_t$) must equal the rental rate on capital paid by firms ($r_t$) plus the undepreciated capital ($1-\\delta$)\n",
    "It is assumed $\\beta(1+n)<1$ and $\\theta>0$\n",
    "\n",
    "\n",
    "\n",
    "The Lagrangian of the representative household's optimization problem is:\n",
    "$$\n",
    "\\begin{equation*}\n",
    "L=\\sum_{t=0}^{\\infty}\\beta^{t}(1+n)^{t}\\left[\\frac{c_{t}^{1-\\theta}}{1-\\theta}-\\mu_t\\left(a_{t+1}(1+n)-(1+r_t-\\delta)a_t-w_t+c_t\\right)\\right]\n",
    "\\end{equation*}\n",
    "$$\n",
    "where $\\mu_t=\\frac{\\lambda_t}{\\beta^t(1+n)^t}$\n",
    "\n",
    "The FOC's are:\n",
    "$$\n",
    "\\begin{aligned}\n",
    "\\frac{\\partial L}{\\partial c_t}=0 &\\Leftrightarrow \\mu_t=c_t^{-\\theta} \\\\\n",
    "\\frac{\\partial L}{\\partial a_{t+1}}=0 &\\Leftrightarrow \\beta \\mu_{t+1}(1+r_{t+1}-\\delta)\n",
    "\\end{aligned}\n",
    "$$\n",
    "\n",
    "Which combined yields the Euler equation, describing the households optimal consumption path:\n",
    "$$\n",
    "\\begin{equation*}\n",
    "c_t^{-\\theta}=\\beta c_{t+1}^{-\\theta}(1+r_{t+1}-\\delta) \\Leftrightarrow \\frac{c_{t+1} }{c_t} = \\left(\\beta(1+r_{t+1}-\\delta)\\right)^{\\frac{1}{\\theta}}\n",
    "\\end{equation*}\n",
    "$$\n",
    "where $\\frac{1}{\\theta}$ is the elasticity of substitution, which is a measure of how willing the household is to substitute a unit of consumption today for a unit of consumption tomorrow.\n",
    "\n",
    "**Identical competitive firms maximize** the profit function:\n",
    "\n",
    "$$\n",
    "\\begin{equation*}\n",
    "\\pi^F(K_t,L_t)=A K_t^{\\alpha}(L_t)^{1-\\alpha}-w_tL_t-r_tK_t\n",
    "\\end{equation*}\n",
    "$$\n",
    "\n",
    "where $L_t$ is labor, $K_t$ is capital, $w_t$ is the wage rate, $r_t$ is the rental rate.\n",
    "\n",
    "Profit maximization yields:\n",
    "$$\n",
    "\\begin{aligned}\n",
    "r_t =& A\\alpha k_t^{\\alpha-1} \\\\\n",
    "w_t =& A(1-\\alpha) k_t^{\\alpha}\n",
    "\\end{aligned}\n",
    "$$\n",
    "where $k_t=\\frac{K_t}{L_t}$ is capital per capita.\n",
    "\n",
    "Furthermore, the goods market clearing condition is:\n",
    "$$\n",
    "Y_t=c_t+I_t\n",
    "$$\n",
    "where $Y_t=F(K_t,L_t)$\n",
    "\n",
    "And capital follows the law of motion:\n",
    "$$\n",
    "K_t=(1-\\delta)K_{t-1}+I_t\n",
    "$$\n",
    "\n",
    "\n",
    "**Solution Algorithm:**\n",
    "  "
   ]
  },
  {
   "cell_type": "markdown",
   "metadata": {},
   "source": [
    "## Analytical solution"
   ]
  },
  {
   "cell_type": "markdown",
   "metadata": {},
   "source": [
    "If your model allows for an analytical solution, you should provide here.\n",
    "\n",
    "You may use Sympy for this. Then you can characterize the solution as a function of a parameter of the model.\n",
    "\n",
    "To characterize the solution, first derive a steady state equation as a function of a parameter using Sympy.solve and then turn it into a python function by Sympy.lambdify. See the lecture notes for details. "
   ]
  },
  {
   "cell_type": "markdown",
   "metadata": {},
   "source": [
    "## Numerical solution"
   ]
  },
  {
   "cell_type": "markdown",
   "metadata": {},
   "source": [
    "You can always solve a model numerically. \n",
    "\n",
    "Define first the set of parameters you need. \n",
    "\n",
    "Then choose one of the optimization algorithms that we have gone through in the lectures based on what you think is most fitting for your model.\n",
    "\n",
    "Are there any problems with convergence? Does the model converge for all starting values? Make a lot of testing to figure these things out. "
   ]
  },
  {
   "cell_type": "markdown",
   "metadata": {},
   "source": [
    "# Further analysis"
   ]
  },
  {
   "cell_type": "markdown",
   "metadata": {},
   "source": [
    "Make detailed vizualizations of how your model changes with parameter values. \n",
    "\n",
    "Try to make an extension of the model. "
   ]
  },
  {
   "cell_type": "markdown",
   "metadata": {},
   "source": [
    "# Conclusion"
   ]
  },
  {
   "cell_type": "markdown",
   "metadata": {},
   "source": [
    "Add concise conclusion. "
   ]
  }
 ],
 "metadata": {
  "kernelspec": {
   "display_name": "Python 3 (ipykernel)",
   "language": "python",
   "name": "python3"
  },
  "language_info": {
   "codemirror_mode": {
    "name": "ipython",
    "version": 3
   },
   "file_extension": ".py",
   "mimetype": "text/x-python",
   "name": "python",
   "nbconvert_exporter": "python",
   "pygments_lexer": "ipython3",
   "version": "3.9.7"
  },
  "toc-autonumbering": true
 },
 "nbformat": 4,
 "nbformat_minor": 4
}
